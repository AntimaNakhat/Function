{
 "cells": [
  {
   "cell_type": "markdown",
   "id": "64f8ce46-a858-4b80-9c15-356472065673",
   "metadata": {},
   "source": [
    "#  Functions Assignment"
   ]
  },
  {
   "cell_type": "markdown",
   "id": "feba6ce8-5a98-4751-9c79-47e1020b2788",
   "metadata": {},
   "source": [
    "## Theory Questions"
   ]
  },
  {
   "cell_type": "markdown",
   "id": "98904721-f987-4939-9822-186a0f5e3f0f",
   "metadata": {},
   "source": [
    "###  Note: For each theory Question, give at least one example"
   ]
  },
  {
   "cell_type": "markdown",
   "id": "d5300be1-a883-4ef7-a0bd-2a7c622ff1ab",
   "metadata": {
    "tags": []
   },
   "source": [
    "###  1. What is the difference between a function and a method in Python?"
   ]
  },
  {
   "cell_type": "markdown",
   "id": "ab6cd84a-2886-4d0b-809d-40a848617680",
   "metadata": {},
   "source": [
    "Differences\n",
    "\n",
    "- Function Independent and not associated with any object where as Method associated with an object and defined within a class\n",
    "\n",
    "- Function Called by its name directly. Method Called on an instance of a class using dot notation.\n",
    "\n",
    "- Function Does not have the self parameter where as the first parameter in Method is usually self, which refers to the instance calling the method."
   ]
  },
  {
   "cell_type": "markdown",
   "id": "108abd8f-6efb-4ce9-a732-9b96bd9df7d6",
   "metadata": {},
   "source": [
    "Function : A function is a standalone block of code that performs a task.  It is defined using the def keyword and can be called anywhere in the code. Functions are not tied to any particular object.\n",
    "\n",
    "- Example given below"
   ]
  },
  {
   "cell_type": "code",
   "execution_count": 1,
   "id": "7c307fa8-4208-4c31-b21f-f4730eabdff9",
   "metadata": {},
   "outputs": [
    {
     "name": "stdout",
     "output_type": "stream",
     "text": [
      "Hello, Antima!\n"
     ]
    }
   ],
   "source": [
    "def greet(name):    #  Regular Function\n",
    "    return f\"Hello, {name}!\"\n",
    "print(greet(\"Antima\"))  # Calling the function "
   ]
  },
  {
   "cell_type": "markdown",
   "id": "1bb1f33f-5bb0-4d05-93ce-baf17b1521e2",
   "metadata": {},
   "source": [
    "Method : A method is a function that is bound to an object (usually an instance of a class) and can access and modify the object's data."
   ]
  },
  {
   "cell_type": "code",
   "execution_count": 2,
   "id": "77e75709-db1e-434d-ab6c-64f6f73956bd",
   "metadata": {},
   "outputs": [
    {
     "name": "stdout",
     "output_type": "stream",
     "text": [
      "Hello, Antima!\n"
     ]
    }
   ],
   "source": [
    "class Greeter:   # Method (Function within a Class)\n",
    "    def __init__(self, name):\n",
    "        self.name = name\n",
    "    def greet(self):\n",
    "        return f\"Hello, {self.name}!\"\n",
    "g = Greeter(\"Antima\") # Creating an instance of the class\n",
    "print(g.greet()) # Calling the method"
   ]
  },
  {
   "cell_type": "markdown",
   "id": "25e8f666-ae3a-4989-9b69-0d45dee48825",
   "metadata": {},
   "source": [
    "###  2. Explain the concept of function arguments and parameters in Python."
   ]
  },
  {
   "cell_type": "markdown",
   "id": "83ff7cba-9c6e-46dd-a945-9e2413c28611",
   "metadata": {},
   "source": [
    "Function arguments and parameters allow us to pass data into functions and retrieve results."
   ]
  },
  {
   "cell_type": "markdown",
   "id": "ecdbc53b-3e56-4a6c-a944-efab37c43b1c",
   "metadata": {},
   "source": [
    "Parameters are the variables listed inside the parentheses in the function definition. They act as placeholders for the values that will be passed to the function.\n",
    "\n",
    "Arguments are the actual values passed to the function when it is called. These values are assigned to the corresponding parameters."
   ]
  },
  {
   "cell_type": "markdown",
   "id": "2db2160f-ac12-4ea7-8700-ce0c8a536c71",
   "metadata": {},
   "source": [
    "Types of Function Arguments and Parameters :"
   ]
  },
  {
   "cell_type": "markdown",
   "id": "5eb5af10-2056-4956-8383-ac126e832664",
   "metadata": {},
   "source": [
    "1. Positional Arguments: Args are passed to the function in the correct positional order."
   ]
  },
  {
   "cell_type": "code",
   "execution_count": 4,
   "id": "219e8cd5-0ade-4f3d-aacf-c32979222fb8",
   "metadata": {},
   "outputs": [
    {
     "name": "stdout",
     "output_type": "stream",
     "text": [
      "19\n"
     ]
    }
   ],
   "source": [
    "def add(a,n):  # Function as an Argument\n",
    "    return a+n\n",
    "res = add(14, 5)  # 14 and 5 are positional args\n",
    "print(res)"
   ]
  },
  {
   "cell_type": "markdown",
   "id": "ee1b2448-679d-4ed1-b960-0665257525d9",
   "metadata": {},
   "source": [
    "2. Keyword Arguments: Args are passed to the function using parameter names as keys. This allows the arguments to be passed in any order."
   ]
  },
  {
   "cell_type": "code",
   "execution_count": 9,
   "id": "41ebc348-5a15-45cf-8518-398d6cc1df63",
   "metadata": {},
   "outputs": [
    {
     "name": "stdout",
     "output_type": "stream",
     "text": [
      "22, Antima\n",
      "19, Neha\n"
     ]
    }
   ],
   "source": [
    "def greet(name, age):\n",
    "    return f\"{age}, {name}\"\n",
    "print(greet(name=\"Antima\", age=22)) \n",
    "print(greet(age=19, name=\"Neha\"))      \n",
    "# in this example name, age are keyword args"
   ]
  },
  {
   "cell_type": "markdown",
   "id": "ddd38e93-39c7-42f2-958e-91936484dd1f",
   "metadata": {},
   "source": [
    "3. Variable-Length Arguments: Functions can accept an arbitrary number of positional or keyword arguments using *args and **kwargs. "
   ]
  },
  {
   "cell_type": "code",
   "execution_count": 11,
   "id": "cbd014c4-d0e0-4fe4-a126-d49ff66049a3",
   "metadata": {},
   "outputs": [
    {
     "name": "stdout",
     "output_type": "stream",
     "text": [
      "41\n",
      "name: Antima\n",
      "age: 5\n",
      "country: India\n"
     ]
    }
   ],
   "source": [
    "def add_all(*args):\n",
    "    return sum(args)\n",
    "\n",
    "# Accepts any number of positional arguments\n",
    "print(add_all(14,5,22))         \n",
    "\n",
    "def print_info(**kwargs):\n",
    "    for key, value in kwargs.items():\n",
    "        print(f\"{key}: {value}\")\n",
    "\n",
    "# Accepts any number of keyword arguments\n",
    "print_info(name=\"Antima\", age=5, country=\"India\")"
   ]
  },
  {
   "cell_type": "markdown",
   "id": "4c2230e8-f37c-4011-9dde-46c6038bcf65",
   "metadata": {},
   "source": [
    "4. Default Arguments: Parameters that have a default value. "
   ]
  },
  {
   "cell_type": "code",
   "execution_count": 13,
   "id": "5a041dd5-8c0a-4e32-8823-42af88db2d59",
   "metadata": {},
   "outputs": [
    {
     "name": "stdout",
     "output_type": "stream",
     "text": [
      "Hello, Antima!\n",
      "Hi, neha!\n"
     ]
    }
   ],
   "source": [
    "def greet(name, message=\"Hello\"): # 'message' uses the default value \"Hello\"\n",
    "    return f\"{message}, {name}!\"\n",
    "print(greet(\"Antima\"))          \n",
    "print(greet(\"neha\",\"Hi\"))"
   ]
  },
  {
   "cell_type": "markdown",
   "id": "f3511edf-1c59-43f6-9341-ef08b8583724",
   "metadata": {},
   "source": [
    "###  3. What are the different ways to define and call a function in Python?"
   ]
  },
  {
   "cell_type": "markdown",
   "id": "0931b879-db5d-4ea1-8c12-a15a569add6f",
   "metadata": {},
   "source": [
    "Functions are a way to encapsulate code for reuse and organization. There are several ways to define and call functions.Some primary methods are explained above like:\n",
    "- Regular Function\n",
    "- Function with Default Args\n",
    "- Function with Variable-Length Arguments\n",
    "- Function as an Argument\n",
    "- Method (Function within a Class)\n",
    "\n",
    "Few more ways to define and call a function are :\n",
    "- Lambda Function\n",
    "- Recursive Function\n",
    "- Nested Function"
   ]
  },
  {
   "cell_type": "code",
   "execution_count": 6,
   "id": "ccc40bcc-5324-477a-b4db-a9521e0199ae",
   "metadata": {},
   "outputs": [
    {
     "name": "stdout",
     "output_type": "stream",
     "text": [
      "196\n"
     ]
    }
   ],
   "source": [
    "# Lambda Function : It can have any number of arguments but only one expression.\n",
    "sq = lambda x : x*x\n",
    "print(sq(14))"
   ]
  },
  {
   "cell_type": "code",
   "execution_count": 8,
   "id": "fdc1d3ed-ed5c-4390-a2e4-af5a5c937cb6",
   "metadata": {},
   "outputs": [
    {
     "name": "stdout",
     "output_type": "stream",
     "text": [
      "120\n"
     ]
    }
   ],
   "source": [
    "\"\"\"Recursive Function : it calls itself. This is useful for problems that\n",
    "can be broken down into smaller, similar subproblems.\"\"\"\n",
    "\n",
    "def fact(n):\n",
    "    if n == 1:\n",
    "        return 1\n",
    "    else:\n",
    "        return n * fact(n-1)\n",
    "print(fact(5))"
   ]
  },
  {
   "cell_type": "code",
   "execution_count": 10,
   "id": "c16d262d-a083-409a-b85a-a8d8d650930f",
   "metadata": {},
   "outputs": [
    {
     "name": "stdout",
     "output_type": "stream",
     "text": [
      "hello guys from outer world\n"
     ]
    }
   ],
   "source": [
    "# Nested Function : It can access variables of the enclosing function.\n",
    "\n",
    "def outer(mess):\n",
    "    def inner():\n",
    "        print(mess)\n",
    "    inner()\n",
    "outer(\"hello guys from outer world\")"
   ]
  },
  {
   "cell_type": "markdown",
   "id": "f88dc97a-38d8-4bc0-b1e2-0c127752b230",
   "metadata": {},
   "source": [
    "###  4. What is the purpose of the `return` statement in a Python function?"
   ]
  },
  {
   "cell_type": "code",
   "execution_count": 14,
   "id": "e0caf407-d31f-4199-9327-36e65363a375",
   "metadata": {},
   "outputs": [
    {
     "name": "stdout",
     "output_type": "stream",
     "text": [
      "19\n"
     ]
    }
   ],
   "source": [
    "\"\"\" 1) Returning a value from a function to the caller and enabling further\n",
    "processing or use of the result\"\"\"\n",
    "\n",
    "def add(a,b):\n",
    "    return a+b\n",
    "res = add(14,5)\n",
    "print(res)"
   ]
  },
  {
   "cell_type": "code",
   "execution_count": 16,
   "id": "577bcc19-5421-49d9-a36c-1efeb0d0863d",
   "metadata": {},
   "outputs": [
    {
     "name": "stdout",
     "output_type": "stream",
     "text": [
      "('raj', 55)\n"
     ]
    }
   ],
   "source": [
    "\"\"\" 2) Return multiple values. Useful when a function needs to return more \n",
    "than one piece of information.\"\"\"\n",
    "\n",
    "def emp():\n",
    "    name = \"raj\"\n",
    "    age = 55\n",
    "    return name,age\n",
    "empinf = emp()\n",
    "print(empinf)"
   ]
  },
  {
   "cell_type": "code",
   "execution_count": 20,
   "id": "94110754-757a-4291-86d0-8e241a17d9f3",
   "metadata": {},
   "outputs": [
    {
     "name": "stdout",
     "output_type": "stream",
     "text": [
      "True\n"
     ]
    }
   ],
   "source": [
    "\"\"\" 3) Exiting a Function Early\"\"\"\n",
    "\n",
    "def check(n):\n",
    "    if n %2 == 0:\n",
    "        return True\n",
    "    return False\n",
    "print(check(888))"
   ]
  },
  {
   "cell_type": "code",
   "execution_count": 22,
   "id": "4b3ded59-b270-4e17-b988-fc655c32977a",
   "metadata": {},
   "outputs": [
    {
     "name": "stdout",
     "output_type": "stream",
     "text": [
      "14\n"
     ]
    }
   ],
   "source": [
    "\"\"\" 4) It can help control the flow of a function, making the logic more \n",
    "readable and concise by avoiding deeply nested structures.\"\"\"\n",
    "\n",
    "def first_even(ns):\n",
    "    for n in ns:\n",
    "        if n%2 == 0:\n",
    "            return n\n",
    "    return none\n",
    "print(first_even([11,14,5,22]))        "
   ]
  },
  {
   "cell_type": "code",
   "execution_count": 26,
   "id": "b76aba86-8829-4dd6-a571-5421d9fb9156",
   "metadata": {},
   "outputs": [
    {
     "name": "stdout",
     "output_type": "stream",
     "text": [
      "None\n"
     ]
    }
   ],
   "source": [
    "\"\"\" 5) If retun statement is not used or used w/o an expression, the function\n",
    "returns ' none' by default and it indicates that the function has no \n",
    "meaningful value to return.\"\"\"\n",
    "\n",
    "def add(a,b):\n",
    "    a+b\n",
    "res = add(14,5)\n",
    "print(res)"
   ]
  },
  {
   "cell_type": "markdown",
   "id": "4d910955-0c9b-4ada-bf88-0ab73c7e4d7c",
   "metadata": {},
   "source": [
    "###  5. What are iterators in Python and how do they differ from iterables?"
   ]
  },
  {
   "cell_type": "markdown",
   "id": "08658c15-d3bc-436b-b085-b0a13bef921d",
   "metadata": {},
   "source": [
    " Iterators and iterables are related concepts used for looping and iteration. "
   ]
  },
  {
   "cell_type": "markdown",
   "id": "1d4ed5f9-6cda-4da3-a95f-7a2eba2b1d7e",
   "metadata": {},
   "source": [
    "Iterables: capable of returning its members one at a time, allowing it to be iterated over in a for-loop or using other iteration tools like list comprehensions. Common examples of iterables include lists, tuples, strings, and dictionaries.Iterable can be converted to an iterator multiple times, which will start from the beginning each time.\n",
    "\n",
    "Iterable objects implement the __iter__() method that returns an iterator."
   ]
  },
  {
   "cell_type": "code",
   "execution_count": 2,
   "id": "131a4cc8-0c9b-41e5-9c9e-0c287e883939",
   "metadata": {},
   "outputs": [
    {
     "name": "stdout",
     "output_type": "stream",
     "text": [
      "12\n",
      "13\n",
      "14\n",
      "15\n"
     ]
    }
   ],
   "source": [
    "l = [12,13,14,15]\n",
    "for i in l:           #Iterating over the list\n",
    "    print(i)"
   ]
  },
  {
   "cell_type": "markdown",
   "id": "34968c1d-4dd9-43cb-9dc5-0be02d0fa519",
   "metadata": {},
   "source": [
    "Iterators : An iterator is an object that represents a stream of data and produces the next value when requested. Iterators are used to traverse through the elements of an iterable , keeping track of the current position.Iterato consumes elements as it iterates. Once exhausted, it cannot be reused without re-creating it.\n",
    "\n",
    "They implement two key methods:\n",
    "\n",
    "__iter__(): Returns the iterator object itself. This method is required to make an object iterable.\n",
    "\n",
    "__next__(): Returns the next value from the iterator. When there are no more values, it raises the StopIteration exception."
   ]
  },
  {
   "cell_type": "code",
   "execution_count": 4,
   "id": "c60fbfe9-091f-49f5-a5fd-32394383c9b9",
   "metadata": {},
   "outputs": [
    {
     "name": "stdout",
     "output_type": "stream",
     "text": [
      "11\n"
     ]
    }
   ],
   "source": [
    "l = [11,15,19,17,13]\n",
    "iterator = iter(l)\n",
    "print(next(iterator))  # Iterating using the iterator\n",
    "\n",
    "# after 13 ot raises stopIteration"
   ]
  },
  {
   "cell_type": "markdown",
   "id": "82b53df2-5ce1-4dbc-8294-1f49c9f9533c",
   "metadata": {},
   "source": [
    "### 6. Explain the concept of generators in Python and how they are defined"
   ]
  },
  {
   "cell_type": "markdown",
   "id": "9bab652c-f9c7-427b-b37b-abf5008ed5e0",
   "metadata": {},
   "source": [
    "Generators are a special type of iterable that allow you to iterate through a sequence of values, but unlike lists or tuples, they do not store all the values in memory. Instead, they generate values on the fly. Generators maintain their state between each yield, making them suitable for representing infinite sequences.\n",
    "\n",
    "In 2 ways generators can be define:"
   ]
  },
  {
   "cell_type": "markdown",
   "id": "e7488ba7-a656-408b-aa5b-7253b18991be",
   "metadata": {},
   "source": [
    "1) Generator Functions : It is defined like a regular function but uses the yield statement to return values one at a time. When a generator function is called, it returns a generator object without starting execution immediately."
   ]
  },
  {
   "cell_type": "code",
   "execution_count": 7,
   "id": "cc2c9e92-cbc7-4ec9-b9da-f425a40dd8e6",
   "metadata": {},
   "outputs": [
    {
     "name": "stdout",
     "output_type": "stream",
     "text": [
      "1\n",
      "2\n",
      "3\n",
      "4\n",
      "5\n",
      "6\n",
      "7\n"
     ]
    }
   ],
   "source": [
    "def count_max(maxv):\n",
    "    count = 1\n",
    "    while count <= maxv:\n",
    "        yield count\n",
    "        count += 1\n",
    "counter = count_max(7)      # Creating a generator object\n",
    "for i in counter:\n",
    "    print(i)"
   ]
  },
  {
   "cell_type": "markdown",
   "id": "d99ddaef-a1d1-4aeb-9f18-ecefe17c06e2",
   "metadata": {},
   "source": [
    "2). Generator Expressions : It provide a concise way to create generators. They are similar to list comprehensions but use parentheses () instead of []."
   ]
  },
  {
   "cell_type": "code",
   "execution_count": 8,
   "id": "576873e5-5036-4b51-8ad1-d64f8d870b6b",
   "metadata": {},
   "outputs": [
    {
     "name": "stdout",
     "output_type": "stream",
     "text": [
      "0\n",
      "1\n",
      "4\n",
      "9\n",
      "16\n",
      "25\n"
     ]
    }
   ],
   "source": [
    "sq = (x*x for x in range(6))\n",
    "for sqa in sq:\n",
    "    print(sqa)"
   ]
  },
  {
   "cell_type": "markdown",
   "id": "e1573b1d-1465-4155-ba97-4709021bf697",
   "metadata": {},
   "source": [
    "Use Cases :\n",
    "- Reading large files line by line without loading the entire file into memory.\n",
    "- Generating an infinite sequence of numbers.\n",
    "- Implementing custom iteration behavior in a clean and concise way."
   ]
  },
  {
   "cell_type": "markdown",
   "id": "a2d367fc-eb66-471e-a9a8-fe3f242de010",
   "metadata": {},
   "source": [
    "Comparison with Iterators: \n",
    "\n",
    "- Generators are a simpler way to create iterators. Any function that contains yield is a generator function and returns a generator object.\n",
    "- Iterators require more boilerplate code to implement the __iter__() and __next__() methods."
   ]
  },
  {
   "cell_type": "markdown",
   "id": "7779f542-9d29-4904-a92c-234a1fe3eb6b",
   "metadata": {},
   "source": [
    "###  7. What are the advantages of using generators over regular functions?"
   ]
  },
  {
   "cell_type": "markdown",
   "id": "7e207015-7937-4345-9caa-1f61895a9b11",
   "metadata": {},
   "source": [
    "1. Memory Efficiency: Generators do not store all the values in memory; instead, they generate each value on-the-fly when requested. This is especially beneficial when dealing with large data sets or infinite sequences.\n",
    "\n",
    "2.  Simpler Code: iterators without needing to implement the __iter__() and __next__() methods. The use of the yield statement makes it straightforward to manage the state of the iteration.\n",
    "\n",
    "3. Generators produce items only when they are needed, it lead to significant performance improvements.\n",
    "\n",
    "4. Generators are particularly well-suited for representing infinite sequences, as they do not require pre-computing or storing the entire sequence.\n",
    "\n",
    "5. Generators allow for more readable and maintainable code, particularly for complex iteration logic.(yield statement provides a clear way to emit values and pause execution)"
   ]
  },
  {
   "cell_type": "markdown",
   "id": "7d9405ad-d63f-4840-a2b0-82a730567b18",
   "metadata": {},
   "source": [
    "###  8. What is a lambda function in Python and when is it typically used?"
   ]
  },
  {
   "cell_type": "markdown",
   "id": "64ccbe42-d796-4157-969f-424d94c477c4",
   "metadata": {},
   "source": [
    "It is a small, anonymous function & can have any number of arguments but only one expression.\n",
    "\n",
    "syntax:- lambda arguments: expression\n",
    "\n",
    "Use Cases given below:"
   ]
  },
  {
   "cell_type": "code",
   "execution_count": 2,
   "id": "a4689c08-a8dc-4f3f-9130-7bf8aebccc91",
   "metadata": {},
   "outputs": [],
   "source": [
    "\"\"\"1). For simple operations that are used temporarily and don't require a\n",
    "named function.\"\"\"\n",
    "\n",
    "add = lambda a,b: a+b"
   ]
  },
  {
   "cell_type": "code",
   "execution_count": 6,
   "id": "d834c6f6-f3a4-4efc-95ab-9a4d6642c278",
   "metadata": {},
   "outputs": [
    {
     "name": "stdout",
     "output_type": "stream",
     "text": [
      "['neha', 'suman', 'antima', 'chanchal']\n"
     ]
    }
   ],
   "source": [
    "\"\"\"2).  Commonly used with sorted(), filter(),map(), reduce() \"\"\"\n",
    "\n",
    "name = ['antima','neha','chanchal','suman']\n",
    "n_sort = sorted(name,key = lambda names: len(names))\n",
    "print(n_sort)"
   ]
  },
  {
   "cell_type": "code",
   "execution_count": 8,
   "id": "5af1d299-348d-4189-b156-20d444dcfc07",
   "metadata": {},
   "outputs": [
    {
     "name": "stdout",
     "output_type": "stream",
     "text": [
      "[22, 48, 62, 84]\n"
     ]
    }
   ],
   "source": [
    "\"\"\"3). When a function is required as an argument to another function and \n",
    "is not reused elsewhere\"\"\"\n",
    "\n",
    "numbers = [11, 24, 31, 42]\n",
    "print(list(map(lambda x: x * 2, numbers)))"
   ]
  },
  {
   "cell_type": "markdown",
   "id": "2a6bd80f-7c68-440b-b4f7-1c39256b0838",
   "metadata": {},
   "source": [
    "4). Used in graphical user interfaces (GUIs) and other event-driven\n",
    "programming."
   ]
  },
  {
   "cell_type": "markdown",
   "id": "013cf3be-9586-42b2-b932-2e70d16aef1c",
   "metadata": {},
   "source": [
    "###  9. Explain the purpose and usage of the `map()` function in Python.\n"
   ]
  },
  {
   "cell_type": "markdown",
   "id": "513514b4-8a84-4ad0-9dff-973731ffec01",
   "metadata": {},
   "source": [
    "Purpose: It applies a given function to all the items in an input iterable (like a list, tuple, etc.) and returns a map object (an iterator) that yields the results. This function is useful for transforming data and applying operations to each item in a collection without writing explicit loops.\n",
    "\n",
    "Syntax: map(function, iterable, ...)"
   ]
  },
  {
   "cell_type": "markdown",
   "id": "651caff6-ef6f-4fa8-8467-2641170315b2",
   "metadata": {},
   "source": [
    "Following are the usages of map():"
   ]
  },
  {
   "cell_type": "code",
   "execution_count": 11,
   "id": "64fbdc40-56d2-42f5-850c-afe5750c4956",
   "metadata": {},
   "outputs": [
    {
     "name": "stdout",
     "output_type": "stream",
     "text": [
      "['1', '4', '7', '8']\n"
     ]
    }
   ],
   "source": [
    "\"\"\"1).Used when you need to apply a function to each element of an iterable.\n",
    "This is useful for operations such as mathematical transformations, string\n",
    "manipulations, and more.\"\"\"\n",
    "\n",
    "n = [1,4,7,8]\n",
    "res = map(str,n)\n",
    "print(list(res))"
   ]
  },
  {
   "cell_type": "code",
   "execution_count": 13,
   "id": "d58d16cd-3868-40fa-a345-67b3bd503021",
   "metadata": {},
   "outputs": [
    {
     "name": "stdout",
     "output_type": "stream",
     "text": [
      "[4, 10, 16]\n"
     ]
    }
   ],
   "source": [
    "\"\"\" 2). The map() function can accept multiple iterables as arguments.The\n",
    "iterables are processed in parallel, and map() stops when the shortest \n",
    "iterable is exhausted.\"\"\"\n",
    "\n",
    "n1 = [1,4,7]\n",
    "n2 = [3,6,9]\n",
    "tsum = map(lambda x,y : x+y , n1,n2)\n",
    "print(list(tsum))"
   ]
  },
  {
   "cell_type": "code",
   "execution_count": 14,
   "id": "93af11c6-21cf-4bbd-aa6b-3e7c4b6276c7",
   "metadata": {},
   "outputs": [
    {
     "name": "stdout",
     "output_type": "stream",
     "text": [
      "[81, 49, 9]\n"
     ]
    }
   ],
   "source": [
    "\"\"\" 3).Converting map object to a List or Other Types to see the results,since\n",
    "map() returns an iterator.\"\"\"\n",
    "\n",
    "n = [9,7,3]\n",
    "sq = map(lambda x:x*x,n)\n",
    "sq_list = list(sq)\n",
    "print(sq_list)"
   ]
  },
  {
   "cell_type": "code",
   "execution_count": 15,
   "id": "d6b0e10e-0524-48f8-bcdd-aea5451c1bdd",
   "metadata": {},
   "outputs": [
    {
     "name": "stdout",
     "output_type": "stream",
     "text": [
      "[21, 22, 23]\n"
     ]
    }
   ],
   "source": [
    "\"\"\"4). Lambda functions are often used with map() for inline, anonymous\n",
    "function definitions, making the code more concise.\"\"\"\n",
    "\n",
    "n = [11,12,13]\n",
    "t = map(lambda x:x+10,n)\n",
    "print(list(t))"
   ]
  },
  {
   "cell_type": "markdown",
   "id": "c39c4bf8-5d43-4bb8-a36f-024f706da405",
   "metadata": {},
   "source": [
    "###  10. What is the difference between `map()`, `reduce()`, and `filter()` functions in Python?"
   ]
  },
  {
   "cell_type": "markdown",
   "id": "ee32d55e-8ee9-4b55-9cb5-9a1f3b07988d",
   "metadata": {},
   "source": [
    "Functionality:\n",
    "\n",
    "- map() transforms each element of an iterable based on a given function.\n",
    "- reduce() aggregates all elements of an iterable into a single value.\n",
    "- filter() selects elements of an iterable that meet a certain condition.\n",
    "\n",
    "Return Type:\n",
    "\n",
    "- map() returns a map object (an iterator).\n",
    "- reduce() returns a single value.\n",
    "- filter() returns a filter object (an iterator).\n",
    "\n",
    "Application:\n",
    "\n",
    "- Use map() when you need to transform elements.\n",
    "- Use reduce() when you need to combine elements into a single cumulative result.\n",
    "- Use filter() when you need to select elements based on a condition.\n",
    "\n",
    "Arguments:\n",
    "\n",
    "- map() and filter() take a function and one or more iterables.\n",
    "- reduce() takes a function and a single iterable."
   ]
  },
  {
   "cell_type": "code",
   "execution_count": 17,
   "id": "8f26c147-7823-490e-83d1-c5d190b7a8fa",
   "metadata": {},
   "outputs": [
    {
     "name": "stdout",
     "output_type": "stream",
     "text": [
      "[64, 16, 36, 4]\n"
     ]
    }
   ],
   "source": [
    "# map()\n",
    "\n",
    "n = [8,4,6,2]\n",
    "sq = map(lambda x : x**2 , n)\n",
    "print(list(sq))"
   ]
  },
  {
   "cell_type": "code",
   "execution_count": 23,
   "id": "1773ce13-6736-4598-b26f-c136fc0c23bf",
   "metadata": {},
   "outputs": [
    {
     "name": "stdout",
     "output_type": "stream",
     "text": [
      "20\n"
     ]
    }
   ],
   "source": [
    "# reduce()\n",
    "\n",
    "from functools import reduce\n",
    "\n",
    "n = [1,2,8,9]\n",
    "t = reduce(lambda x ,y : x+y ,n)\n",
    "print(t)"
   ]
  },
  {
   "cell_type": "code",
   "execution_count": 22,
   "id": "f2a4fb3c-2a57-4433-8db9-268533023141",
   "metadata": {},
   "outputs": [
    {
     "name": "stdout",
     "output_type": "stream",
     "text": [
      "[46, 82]\n"
     ]
    }
   ],
   "source": [
    "# filter()\n",
    "\n",
    "n = [37,91,46,82]\n",
    "e = filter(lambda x : x % 2 == 0 , n)\n",
    "print(list(e))"
   ]
  },
  {
   "cell_type": "markdown",
   "id": "20df7c5f-d0b8-4041-8945-f284a424301c",
   "metadata": {},
   "source": [
    "## Practical Questions"
   ]
  },
  {
   "cell_type": "markdown",
   "id": "c9ca5d14-79f7-4d6e-8461-132cbf784abc",
   "metadata": {},
   "source": [
    "###  1. Write a Python function that takes a list of numbers as input and returns the sum of all even numbers in the list."
   ]
  },
  {
   "cell_type": "code",
   "execution_count": 34,
   "id": "489c3341-e71f-4fcb-a279-27416206daec",
   "metadata": {},
   "outputs": [
    {
     "name": "stdout",
     "output_type": "stream",
     "text": [
      "128\n"
     ]
    }
   ],
   "source": [
    "def sum_e(n):\n",
    "    e = filter(lambda x : x%2 == 0 ,n)\n",
    "    return sum(e)\n",
    "n = [37,91,46,82]\n",
    "res = sum_e(n)\n",
    "print(res)"
   ]
  },
  {
   "cell_type": "code",
   "execution_count": null,
   "id": "1ce8cff7-948a-4b9d-b360-23fbdb0bd024",
   "metadata": {},
   "outputs": [],
   "source": [
    "from functools import reduce\n",
    "\n",
    "n = [37,91,46,82]\n",
    "e = filter(lambda x : x%2 == 0 ,n)\n",
    "es = reduce(lambda x,y : x+y , e)\n",
    "print(es)"
   ]
  },
  {
   "cell_type": "code",
   "execution_count": null,
   "id": "0c197373-6b2a-483d-8bd4-96bb95f301f6",
   "metadata": {},
   "outputs": [],
   "source": [
    "from functools import reduce\n",
    "\n",
    "n = [37,91,46,82]\n",
    "es = reduce(lambda x,y : x+y , filter(lambda x:x %2 == 0,n))\n",
    "print(es)"
   ]
  },
  {
   "cell_type": "markdown",
   "id": "46f9e38c-4c36-4084-9fa9-26100ee58fec",
   "metadata": {},
   "source": [
    "###  2. Create a Python function that accepts a string and returns the reverse of that string"
   ]
  },
  {
   "cell_type": "code",
   "execution_count": 30,
   "id": "134cd816-d0c9-4555-a530-44c65e3f883a",
   "metadata": {},
   "outputs": [
    {
     "name": "stdout",
     "output_type": "stream",
     "text": [
      "olleH\n"
     ]
    }
   ],
   "source": [
    "def rev (name):\n",
    "    return name[::-1]\n",
    "ori = \"Hello\"\n",
    "rev = rev(ori)\n",
    "print(rev)"
   ]
  },
  {
   "cell_type": "markdown",
   "id": "2f0d70cd-1f3a-4c04-bb1c-5d1aaaa3dce3",
   "metadata": {},
   "source": [
    "### 3. Implement a Python function that takes a list of integers and returns a new list containing the squares of each number."
   ]
  },
  {
   "cell_type": "code",
   "execution_count": 37,
   "id": "fe27922a-3c38-416b-8c8c-83b803fc4891",
   "metadata": {},
   "outputs": [
    {
     "name": "stdout",
     "output_type": "stream",
     "text": [
      "[64, 49, 9, 2401]\n"
     ]
    }
   ],
   "source": [
    "def sq(n):\n",
    "    sqr = map(lambda x : x**2,n)\n",
    "    return list(sqr)\n",
    "n = [8,7,3,49]\n",
    "res = sq(n)\n",
    "print(res)"
   ]
  },
  {
   "cell_type": "markdown",
   "id": "889c850a-5107-484c-9e83-1e69942074e4",
   "metadata": {},
   "source": [
    "###  4. Write a Python function that checks if a given number is prime or not from 1 to 200."
   ]
  },
  {
   "cell_type": "code",
   "execution_count": 61,
   "id": "d180948a-b2e2-4d74-b2a1-6cc0c4e1419c",
   "metadata": {},
   "outputs": [
    {
     "name": "stdin",
     "output_type": "stream",
     "text": [
      "Enter a number between 1 and 200 to check if a given number is prime or not:  21\n"
     ]
    },
    {
     "name": "stdout",
     "output_type": "stream",
     "text": [
      "21 is not a prime number.\n"
     ]
    }
   ],
   "source": [
    "def is_prime(number):\n",
    "    if number <= 1:\n",
    "        return False\n",
    "    for i in range(2, int(number ** 0.5) + 1):\n",
    "        if number % i == 0:\n",
    "            return False\n",
    "    return True\n",
    "\n",
    "def check_prime_in_range():\n",
    "    num = int(input(\"Enter a number between 1 and 200 to check if a given number is prime or not: \"))\n",
    "    if num < 1 or num > 200:\n",
    "        print(\"Number out of range. Please enter a number between 1 and 200.\")\n",
    "        return\n",
    "    if is_prime(num):\n",
    "        print(f\"{num} is a prime number.\")\n",
    "    else:\n",
    "        print(f\"{num} is not a prime number.\")\n",
    "check_prime_in_range()\n"
   ]
  },
  {
   "cell_type": "markdown",
   "id": "aad1ef08-839d-48b1-9ea6-d38d9527e32c",
   "metadata": {},
   "source": [
    "### 5. Create an iterator class in Python that generates the Fibonacci sequence up to a specified number of terms."
   ]
  },
  {
   "cell_type": "code",
   "execution_count": 66,
   "id": "acfc0148-8a52-4861-b6a0-1af8f50854b1",
   "metadata": {},
   "outputs": [
    {
     "name": "stdout",
     "output_type": "stream",
     "text": [
      "0 1 1 2 3 5 8 13 21 34 "
     ]
    }
   ],
   "source": [
    "class fibo:\n",
    "    def __init__(self,n_term):\n",
    "        self.n_term = n_term\n",
    "        self.current_t = 0\n",
    "        self.a = 0\n",
    "        self.b = 1\n",
    "    def __iter__(self):\n",
    "        return self\n",
    "    def __next__(self):\n",
    "        if self.current_t >= self.n_term:\n",
    "            raise StopIteration\n",
    "            \n",
    "        if self.current_t == 0:\n",
    "            self.current_t += 1\n",
    "            return self.a\n",
    "        \n",
    "        elif self.current_t == 1:\n",
    "            self.current_t += 1\n",
    "            return self.b\n",
    "        \n",
    "        self.current_t += 1\n",
    "        next_value = self.a + self.b\n",
    "        self.a, self.b = self.b, next_value\n",
    "        return next_value\n",
    "\n",
    "fib = fibo(10)\n",
    "for number in fib:\n",
    "    print(number , end = \" \")"
   ]
  },
  {
   "cell_type": "markdown",
   "id": "2025bb47-e015-4f69-bc44-dc5d774ceeaf",
   "metadata": {},
   "source": [
    "###  6. Write a generator function in Python that yields the powers of 2 up to a given exponent."
   ]
  },
  {
   "cell_type": "code",
   "execution_count": 72,
   "id": "49142160-bd4e-4306-8a87-73dc7924e888",
   "metadata": {},
   "outputs": [
    {
     "name": "stdout",
     "output_type": "stream",
     "text": [
      "1\n",
      "2\n",
      "4\n",
      "8\n",
      "16\n",
      "32\n",
      "64\n",
      "128\n",
      "256\n",
      "512\n",
      "1024\n",
      "2048\n"
     ]
    }
   ],
   "source": [
    "def expo(maxn):\n",
    "    exp = 0\n",
    "    while exp <= maxn:\n",
    "        yield 2** exp\n",
    "        exp += 1\n",
    "for p in expo(11):\n",
    "    print(p)"
   ]
  },
  {
   "cell_type": "markdown",
   "id": "48a17548-e821-4bd7-8222-c21991c1f161",
   "metadata": {},
   "source": [
    "###  7. Implement a generator function that reads a file line by line and yields each line as a string"
   ]
  },
  {
   "cell_type": "code",
   "execution_count": null,
   "id": "0a02d052-b178-477d-b109-96c22f551f6b",
   "metadata": {},
   "outputs": [],
   "source": [
    "def read_file(file_path):\n",
    "    #Generator function that reads a file line by line\n",
    "    with open(file_path, 'r') as file:\n",
    "        for line in file:\n",
    "            yield line\n",
    "\n",
    "# Assume 'example.txt' is a text file in the same directory as this script.\n",
    "for line in read_file('example.txt'):\n",
    "    print(line, end='')"
   ]
  },
  {
   "cell_type": "markdown",
   "id": "f0a4b8e8-94f3-47d5-a1a0-055e9c18d4ac",
   "metadata": {},
   "source": [
    "###  8. Use a lambda function in Python to sort a list of tuples based on the second element of each tuple."
   ]
  },
  {
   "cell_type": "code",
   "execution_count": 83,
   "id": "cbd46096-1c6f-443d-a15e-f2b8dafdc867",
   "metadata": {},
   "outputs": [
    {
     "name": "stdout",
     "output_type": "stream",
     "text": [
      "[(7, 'apple'), (3, 'banana'), (9, 'cherry'), (1, 'date'), (5, 'grape')]\n"
     ]
    }
   ],
   "source": [
    "t_l = [(1,'date'),(5,'grape'),(9,'cherry'),(3,'banana'),(7,'apple')]\n",
    "t_l.sort(key = lambda x: x[1])\n",
    "print(t_l)"
   ]
  },
  {
   "cell_type": "markdown",
   "id": "bcbb11aa-4de9-4ffd-b9ab-916d93aa7449",
   "metadata": {},
   "source": [
    "###  9. Write a Python program that uses `map()` to convert a list of temperatures from Celsius to Fahrenheit."
   ]
  },
  {
   "cell_type": "code",
   "execution_count": 91,
   "id": "e307418e-f6c1-4e6c-ab90-949669e0ee79",
   "metadata": {},
   "outputs": [
    {
     "name": "stdout",
     "output_type": "stream",
     "text": [
      "[213.8, 123.8, 185.0, 32.0]\n"
     ]
    }
   ],
   "source": [
    "def cel_to_tem(c):\n",
    "    return (c*9/5)+32\n",
    "cel_tem = [101,51,85,0]\n",
    "\n",
    "fah_tem = map(cel_to_tem,cel_tem)\n",
    "\n",
    "fah_tem_l = list(fah_tem)\n",
    "print(fah_tem_l)"
   ]
  },
  {
   "cell_type": "markdown",
   "id": "b98905ef-2b08-4982-a3fe-770d106f0f67",
   "metadata": {},
   "source": [
    "###  10. Create a Python program that uses `filter()` to remove all the vowels from a given string."
   ]
  },
  {
   "cell_type": "code",
   "execution_count": 6,
   "id": "ccc18817-128a-49cf-b207-2eccc70b9d26",
   "metadata": {},
   "outputs": [
    {
     "name": "stdout",
     "output_type": "stream",
     "text": [
      "rs\n"
     ]
    }
   ],
   "source": [
    "s = \"Aerious\"\n",
    "rem = filter(lambda x : x not in \"AEIOUaeiou\" , s)\n",
    "rem = ''.join(rem)\n",
    "print(rem)"
   ]
  },
  {
   "cell_type": "markdown",
   "id": "3f96e0ec-cc2d-4130-a0f6-702222d819e7",
   "metadata": {},
   "source": [
    "### 11) Imagine an accounting routine used in a book shop. It works on a list with sublists, which look like this:\n",
    "\n",
    "### Write a Python program, which returns a list with 2-tuples. Each tuple consists of the order number and the product of the price per item and the quantity. The product should be increased by 10,- € if the value of the order is smaller than 100,00 €.Write a Python program using lambda and map"
   ]
  },
  {
   "cell_type": "code",
   "execution_count": 17,
   "id": "e6f06282-6491-4722-8163-532ae4ec3407",
   "metadata": {},
   "outputs": [
    {
     "name": "stdout",
     "output_type": "stream",
     "text": [
      "[(34587, 173.8), (98762, 294.0), (77226, 108.85000000000001), (88112, 84.97)]\n"
     ]
    }
   ],
   "source": [
    "ord = [\n",
    "    [34587,\"learning python,mark lutz\",4,40.95],\n",
    "    [98762, \"Programming Python, Mark Lutz\", 5, 56.80],\n",
    "    [77226, \"Head First Python, Paul Barry\", 3, 32.95],\n",
    "    [88112, \"Einführung in Python3, Bernd Klein\", 3, 24.99]\n",
    "]\n",
    "pro_ord = lambda order : (order[0],order[2]*order[3]+10 if order[2]*order[3]<10000 else order[2]*order[3])\n",
    "res = list(map(pro_ord,ord))\n",
    "print(res)"
   ]
  },
  {
   "cell_type": "code",
   "execution_count": null,
   "id": "be09054c-b372-451e-90b8-8f8f6cf0b99a",
   "metadata": {},
   "outputs": [],
   "source": []
  }
 ],
 "metadata": {
  "kernelspec": {
   "display_name": "Python 3 (ipykernel)",
   "language": "python",
   "name": "python3"
  },
  "language_info": {
   "codemirror_mode": {
    "name": "ipython",
    "version": 3
   },
   "file_extension": ".py",
   "mimetype": "text/x-python",
   "name": "python",
   "nbconvert_exporter": "python",
   "pygments_lexer": "ipython3",
   "version": "3.10.8"
  }
 },
 "nbformat": 4,
 "nbformat_minor": 5
}
